{
 "cells": [
  {
   "cell_type": "markdown",
   "metadata": {},
   "source": [
    "# Box touches box: vertex-edge"
   ]
  },
  {
   "cell_type": "code",
   "execution_count": 1,
   "metadata": {},
   "outputs": [
    {
     "name": "stderr",
     "output_type": "stream",
     "text": [
      "INFO:drake:Meshcat listening for connections at http://localhost:7000\n"
     ]
    },
    {
     "name": "stdout",
     "output_type": "stream",
     "text": [
      "id_A = <GeometryId value=21>\n",
      "id_B = <GeometryId value=27>\n",
      "p_ACa = [ 2.77555756e-16 -1.00000000e+00 -1.00000000e+00]\n",
      "p_BCb = [1. 1. 1.]\n",
      "distance = -1.9229626863835638e-16\n",
      "nhat_BA_W = [-0.          0.35434932  0.93511313]\n",
      "\n"
     ]
    }
   ],
   "source": [
    "import numpy as np\n",
    "\n",
    "box_A_sdf = \"\"\"<?xml version=\"1.0\"?>\n",
    "<sdf version=\"1.7\">\n",
    "  <model name=\"Box_A\">\n",
    "    <link name=\"box_A\">\n",
    "      <collision name=\"collision\">\n",
    "        <geometry>\n",
    "          <box>\n",
    "            <size>2 2 2</size>\n",
    "          </box>\n",
    "        </geometry>\n",
    "      </collision>\n",
    "      <visual name=\"visual\">\n",
    "        <geometry>\n",
    "          <box>\n",
    "            <size>2 2 2</size>\n",
    "          </box>\n",
    "        </geometry>\n",
    "        <material>\n",
    "          <diffuse>1.0 1.0 1.0 1</diffuse>\n",
    "        </material>\n",
    "      </visual>\n",
    "    </link>\n",
    "  </model>\n",
    "</sdf>\n",
    "\"\"\"\n",
    "\n",
    "box_B_sdf = \"\"\"<?xml version=\"1.0\"?>\n",
    "<sdf version=\"1.7\">\n",
    "  <model name=\"Box_B\">\n",
    "    <link name=\"box_B\">\n",
    "      <collision name=\"collision\">\n",
    "        <geometry>\n",
    "          <box>\n",
    "            <size>2 2 2</size>\n",
    "          </box>\n",
    "        </geometry>\n",
    "      </collision>\n",
    "      <visual name=\"visual\">\n",
    "        <geometry>\n",
    "          <box>\n",
    "            <size>2 2 2</size>\n",
    "          </box>\n",
    "        </geometry>\n",
    "        <material>\n",
    "         <diffuse>0.9 0.8 0.7 1</diffuse>\n",
    "        </material>\n",
    "      </visual>\n",
    "    </link>\n",
    "  </model>\n",
    "</sdf>\n",
    "\"\"\"\n",
    "\n",
    "from pydrake.math import RigidTransform, RollPitchYaw\n",
    "from pydrake.multibody.parsing import Parser\n",
    "from pydrake.multibody.plant import AddMultibodyPlantSceneGraph\n",
    "from pydrake.systems.framework import DiagramBuilder\n",
    "from pydrake.visualization import AddDefaultVisualization\n",
    "\n",
    "builder = DiagramBuilder()\n",
    "plant, scene_graph = AddMultibodyPlantSceneGraph(builder, 0)\n",
    "parser = Parser(plant)\n",
    "\n",
    "parser.AddModelsFromString(box_A_sdf, \"sdf\")\n",
    "parser.AddModelsFromString(box_B_sdf, \"sdf\")\n",
    "plant.Finalize()\n",
    "\n",
    "X_WA= RigidTransform(rpy=RollPitchYaw(np.pi / 4, np.pi / 12, np.pi / 4),\n",
    "                      p=np.zeros(3))\n",
    "plant.SetDefaultFreeBodyPose(plant.GetBodyByName(\"box_A\"), X_WA)\n",
    "\n",
    "p_ACa = [0, -1., -1.]\n",
    "p_WCa = X_WA.multiply(p_BoQ_B=p_ACa)\n",
    "p_WBo = p_WCa - [1., 1., 1.]\n",
    "\n",
    "X_WB = RigidTransform(p = p_WBo)\n",
    "plant.SetDefaultFreeBodyPose(plant.GetBodyByName(\"box_B\"), X_WB)    \n",
    "\n",
    "AddDefaultVisualization(builder=builder)\n",
    "\n",
    "diagram = builder.Build()\n",
    "\n",
    "\n",
    "from pydrake.systems.analysis import Simulator\n",
    "simulator = Simulator(diagram)\n",
    "simulator.Initialize()\n",
    "simulator.AdvanceTo(0)\n",
    "\n",
    "context = diagram.CreateDefaultContext()\n",
    "scene_graph_context = scene_graph.GetMyMutableContextFromRoot(context)\n",
    "query_object = scene_graph.get_query_output_port().Eval(scene_graph_context)\n",
    "signed_distance_pairs = query_object.ComputeSignedDistancePairwiseClosestPoints()\n",
    "\n",
    "for pair in signed_distance_pairs:\n",
    "    print(f\"id_A = {pair.id_A}\")\n",
    "    print(f\"id_B = {pair.id_B}\")\n",
    "    print(f\"p_ACa = {pair.p_ACa.transpose()}\")\n",
    "    print(f\"p_BCb = {pair.p_BCb.transpose()}\")\n",
    "    print(f\"distance = {pair.distance}\")\n",
    "    print(f\"nhat_BA_W = {pair.nhat_BA_W.transpose()}\")\n",
    "    print()"
   ]
  },
  {
   "cell_type": "code",
   "execution_count": 2,
   "metadata": {},
   "outputs": [
    {
     "name": "stdout",
     "output_type": "stream",
     "text": [
      "Na_A = [1, 0, 0]\n",
      "Na_W = [ 0.6830127   0.6830127  -0.25881905]\n",
      "Nb_B = [1, 0, 0]\n",
      "Nb_W = [1. 0. 0.]\n",
      "Nb_W_x_Na_W = [-0.          0.25881905  0.6830127 ]\n",
      "normalized_Nb_x_Na_W = [-0.          0.35434932  0.93511313]\n"
     ]
    }
   ],
   "source": [
    "Na_A = [1, 0, 0]\n",
    "Na_W = X_WA.rotation().multiply(v_B = Na_A)\n",
    "print(f\"Na_A = {Na_A}\")\n",
    "print(f\"Na_W = {Na_W}\")\n",
    "\n",
    "Nb_B = [1, 0, 0]\n",
    "Nb_W = X_WB.rotation().multiply(v_B = Nb_B)\n",
    "print(f\"Nb_B = {Nb_B}\")\n",
    "print(f\"Nb_W = {Nb_W}\")\n",
    "\n",
    "Nb_W_x_Na_W = np.cross(Nb_W, Na_W)\n",
    "print(f\"Nb_W_x_Na_W = {Nb_W_x_Na_W}\")\n",
    "\n",
    "normalized_Nb_x_Na_W = Nb_W_x_Na_W / np.linalg.norm(Nb_W_x_Na_W)\n",
    "print(f\"normalized_Nb_x_Na_W = {normalized_Nb_x_Na_W}\")"
   ]
  },
  {
   "cell_type": "code",
   "execution_count": null,
   "metadata": {},
   "outputs": [],
   "source": []
  }
 ],
 "metadata": {
  "kernelspec": {
   "display_name": "Python 3 (ipykernel)",
   "language": "python",
   "name": "python3"
  },
  "language_info": {
   "codemirror_mode": {
    "name": "ipython",
    "version": 3
   },
   "file_extension": ".py",
   "mimetype": "text/x-python",
   "name": "python",
   "nbconvert_exporter": "python",
   "pygments_lexer": "ipython3",
   "version": "3.10.12"
  }
 },
 "nbformat": 4,
 "nbformat_minor": 4
}
