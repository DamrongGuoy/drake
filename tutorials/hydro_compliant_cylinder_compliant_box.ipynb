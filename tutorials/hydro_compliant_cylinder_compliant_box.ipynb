{
 "cells": [
  {
   "cell_type": "markdown",
   "metadata": {},
   "source": [
    "# (Under construction) Euler's Disk, hydroelastic contact between a compliant cylinder and a compliant box\n",
    "Damrong Guoy\n",
    "\n",
    "From source installation of Drake, start this notebook by:\n",
    "```\n",
    "drake $ bazel run //tutorials:hydro_compliant_cylinder_compliant_box\n",
    "```\n",
    "\n",
    "This tutorial follows the pattern of [authoring_multibody_simulation.ipynb](./authoring_multibody_simulation.ipynb) by Zach Feng. If you are not familiar with Drake, you should study that one first."
   ]
  },
  {
   "cell_type": "markdown",
   "metadata": {},
   "source": [
    "# Introduction\n",
    "\n",
    "This tutorial shows you how to set up simulations with hydroelastic contacts between two compliant hydroelastic geometries. It is motivated by [Euler's Disk](https://en.wikipedia.org/wiki/Euler%27s_Disk) invented by Joseph Bendik around 1990.\n",
    "\n",
    "This tutorial is a sequel to the tutorial for *Hydroelastic Contact Between A Compliant Box And A Rigid Box*. You should study that tutorial before."
   ]
  },
  {
   "cell_type": "markdown",
   "metadata": {},
   "source": [
    "Click [here](./images/2023-03-31_EulerDisk_hydro_compliant_cylinder_box.html) to see playback from html record."
   ]
  },
  {
   "cell_type": "markdown",
   "metadata": {},
   "source": [
    "## Outline\n",
    "\n",
    "This tutorial will show you how to:\n"
   ]
  },
  {
   "cell_type": "markdown",
   "metadata": {},
   "source": [
    "## Start MeshCat\n",
    "\n",
    "![StartMeshcat](./images/StartMeshcat.png)"
   ]
  },
  {
   "cell_type": "code",
   "execution_count": 1,
   "metadata": {},
   "outputs": [
    {
     "name": "stderr",
     "output_type": "stream",
     "text": [
      "INFO:drake:Meshcat listening for connections at http://localhost:7000\n"
     ]
    }
   ],
   "source": [
    "from pydrake.geometry import StartMeshcat\n",
    "\n",
    "# Start the visualizer. The cell will output an HTTP link after the execution.\n",
    "# Click the link and a MeshCat tab should appear in your browser.\n",
    "meshcat = StartMeshcat()"
   ]
  },
  {
   "cell_type": "markdown",
   "metadata": {},
   "source": [
    "## Create compliant hydroelastic cylinder\n",
    "\n",
    "*Make sure you have the MeshCat tab opened in your browser; the link is shown immediately above.*\n",
    "\n",
    "We will create and visualize a compliant hydroelastic cylinder with SDFormat string.\n",
    "\n",
    "We will use `ModelVisualizer` to verify the SDFormat description. It will tell MeshCat to show the cylinder.\n",
    "\n",
    "Notice the three main blocks `<visual name=\"visual\">`, `<collision name=\"collision\">`, and `<inertial>` in the SDFormat string below. If you don't know them, the prequel tutorial has more explanation.\n",
    "\n",
    "Our focus is in the `<collision>` block for contact simulation. Drake also uses the term proximity for collision. This is the `<drake:proximity_properties>` block that control hydroelastic contacts:\n",
    "\n",
    "        <drake:proximity_properties>\n",
    "          <drake:compliant_hydroelastic/>\n",
    "          <drake:hydroelastic_modulus>1e7</drake:hydroelastic_modulus>\n",
    "          <drake:mesh_resolution_hint>0.01</drake:mesh_resolution_hint>\n",
    "          <drake:mu_dynamic>0.5</drake:mu_dynamic>\n",
    "          <drake:hunt_crossley_dissipation>1.25</drake:hunt_crossley_dissipation>\n",
    "          <drake:relaxation_time>0.1</drake:relaxation_time>\n",
    "        </drake:proximity_properties>\n",
    "\n",
    "Use `<drake:compliant_hydroelastic/>` to specify a compliant object.\n",
    "\n",
    "The `<drake:hydroelastic_modulus>1e7` (Pascals) indicates 10 MPa in hydroelastic modulus. It is comparable to high-density polyethylene (HDPE) with 1 GPa Young's modulus. Hydroelastic modulus is not a physical property but rather a numerical parameter to tune our contact model. As a rule of thumb, set hydroelastic modulus to about 1/100 of Young's modulus. \n",
    "\n",
    "The `<drake:mu_dynamic>0.5` (unitless) sets the friction coefficient.\n",
    "\n",
    "The `<drake:hunt_crossley_dissipation>1.25` (seconds/meter) sets the dissipation constant for TAMSI contact solver, and the `<drake:relaxation_time>0.1` (seconds) sets the dissipation constant for SAP contact solver. Here we set both of them, so we can switch between the two solvers. In the future, we expect SAP to support Hunt & Crossley dissipation model. See *Hydroelastic contact* in [MultibodyPlant](https://drake.mit.edu/doxygen_cxx/classdrake_1_1multibody_1_1_multibody_plant.html) documentation.\n",
    "\n",
    "We also need mass property in `<inertial>` block. The next code block shows you how to compute inertial matrix. We will use these numbers in our SDFormat string afterwards."
   ]
  },
  {
   "cell_type": "code",
   "execution_count": 2,
   "metadata": {},
   "outputs": [
    {
     "name": "stdout",
     "output_type": "stream",
     "text": [
      "[[0.00040833 0.         0.        ]\n",
      " [0.         0.00040833 0.        ]\n",
      " [0.         0.         0.0008    ]]\n"
     ]
    }
   ],
   "source": [
    "from pydrake.multibody.tree import UnitInertia\n",
    "\n",
    "# Cylinder of radius 4 centimeters and height 1 centimeter\n",
    "unit_inertia = UnitInertia.SolidCylinder(r=0.04, L=0.01)\n",
    "# mass 1 kg\n",
    "mass = 1\n",
    "\n",
    "inertia_matrix3 = mass * unit_inertia.CopyToFullMatrix3()\n",
    "\n",
    "print(inertia_matrix3)"
   ]
  },
  {
   "cell_type": "code",
   "execution_count": 9,
   "metadata": {},
   "outputs": [
    {
     "data": {
      "text/plain": [
       "<RunResult.STOPPED: 2>"
      ]
     },
     "execution_count": 9,
     "metadata": {},
     "output_type": "execute_result"
    }
   ],
   "source": [
    "from pydrake.visualization import ModelVisualizer\n",
    "\n",
    "# Define a compliant hydroelastic box.\n",
    "compliant_cylinder_sdf = \"\"\"<?xml version=\"1.0\"?>\n",
    "<sdf version=\"1.7\">\n",
    "  <model name=\"CompliantCylinder\">\n",
    "    <pose>0 0 0 0 0 0</pose>\n",
    "    <link name=\"compliant_cylinder_link\">\n",
    "      <inertial>\n",
    "        <mass>1.0</mass>\n",
    "        <inertia>\n",
    "          <ixx>0.00040833</ixx> <ixy>0.0</ixy> <ixz>0.0</ixz>\n",
    "          <iyy>0.00040833</iyy> <iyz>0.0</iyz>\n",
    "          <izz>0.0008</izz>\n",
    "        </inertia>\n",
    "      </inertial>\n",
    "      <collision name=\"collision\">\n",
    "        <geometry>\n",
    "          <cylinder>\n",
    "            <radius>0.04</radius>\n",
    "            <length>0.01</length>\n",
    "          </cylinder>\n",
    "        </geometry>\n",
    "        <drake:proximity_properties>\n",
    "          <drake:compliant_hydroelastic/>\n",
    "          <drake:hydroelastic_modulus>\n",
    "            <!-- 2 GPa for objects of size in centimeters of steel with Young's modulus 200 GPa -->\n",
    "            2e9\n",
    "          </drake:hydroelastic_modulus>\n",
    "          <drake:mesh_resolution_hint>\n",
    "            <!-- 5mm mesh resolution for objects of size in centimeters is for high accuracy -->\n",
    "            0.005\n",
    "          </drake:mesh_resolution_hint>\n",
    "          <drake:mu_dynamic>1</drake:mu_dynamic>\n",
    "          <drake:mu_static>1</drake:mu_static>\n",
    "          <drake:hunt_crossley_dissipation>0</drake:hunt_crossley_dissipation>\n",
    "          <drake:relaxation_time>0</drake:relaxation_time>\n",
    "        </drake:proximity_properties>\n",
    "      </collision>\n",
    "      <visual name=\"EulerDisk\">\n",
    "        <geometry>\n",
    "          <cylinder>\n",
    "            <radius>0.04</radius>\n",
    "            <length>0.01</length>\n",
    "          </cylinder>\n",
    "        </geometry>\n",
    "        <material>\n",
    "          <diffuse>1.0 1.0 1.0 0.5</diffuse>\n",
    "        </material>\n",
    "      </visual>\n",
    "      <visual name=\"InternalRod\">\n",
    "        <geometry>\n",
    "          <box>\n",
    "            <size>0.04 0.005 0.005</size>\n",
    "          </box>\n",
    "        </geometry>\n",
    "        <material>\n",
    "          <diffuse>1.0 1.0 0.0 1.0</diffuse>\n",
    "        </material>\n",
    "      </visual>\n",
    "    </link>\n",
    "  </model>\n",
    "</sdf>\n",
    "\n",
    "\"\"\"\n",
    "\n",
    "# Visualize the SDFormat string you just defined.\n",
    "visualizer = ModelVisualizer(meshcat=meshcat)\n",
    "visualizer.parser().AddModelsFromString(compliant_cylinder_sdf, \"sdf\")\n",
    "visualizer.Run(loop_once=True)"
   ]
  },
  {
   "cell_type": "markdown",
   "metadata": {},
   "source": [
    "## Create compliant hydroelastic box\n",
    "\n",
    "The following SDFormat string specifies a rigid hydroelastic box. It is similar to the compliant hydroelastic box.\n",
    "\n",
    "Both the `<visual>` and `<collision>` geometries are a box of size 30cm x 50cm x 3cm. \n",
    "\n",
    "This rigid hydroelastic box uses the same `<drake:proximity_properties>` block as the previous compliant hydroelastic box.\n",
    "\n",
    "We do not specify `<mass>` and `<inertia>` of this box because we will fix it to the world frame when we are ready to create scene. It will not move.\n",
    "    \n",
    "The `<frame name=\"top_surface\">` is a frame at the top of the box. It is at 2.5cm (half of the box's height) above the center of the box. In the next section *Create Diagram of the scene*, we will places the `top_surface` frame at the world's origin."
   ]
  },
  {
   "cell_type": "code",
   "execution_count": 10,
   "metadata": {},
   "outputs": [
    {
     "data": {
      "text/plain": [
       "<RunResult.STOPPED: 2>"
      ]
     },
     "execution_count": 10,
     "metadata": {},
     "output_type": "execute_result"
    }
   ],
   "source": [
    "from pydrake.visualization import ModelVisualizer\n",
    "\n",
    "# Create a compliant-hydroelastic table top\n",
    "compliant_box_sdf = \"\"\"<?xml version=\"1.0\"?>\n",
    "<sdf version=\"1.7\">\n",
    "  <model name=\"CompliantBox\">\n",
    "    <link name=\"compliant_box_link\">\n",
    "      <visual name=\"visual\">\n",
    "        <pose>0 0 0 0 0 0</pose>\n",
    "        <geometry>\n",
    "          <box>\n",
    "            <size>0.3 0.5 0.03</size>\n",
    "          </box>\n",
    "        </geometry>\n",
    "        <material>\n",
    "         <diffuse>0.9 0.8 0.7 0.5</diffuse>\n",
    "        </material>\n",
    "      </visual>\n",
    "      <collision name=\"collision\">\n",
    "        <pose>0 0 0 0 0 0</pose>\n",
    "        <geometry>\n",
    "          <box>\n",
    "            <size>0.3 0.5 0.03</size>\n",
    "          </box>\n",
    "        </geometry>\n",
    "        <drake:proximity_properties>\n",
    "          <drake:compliant_hydroelastic/>\n",
    "          <drake:hydroelastic_modulus>\n",
    "            2e9\n",
    "          </drake:hydroelastic_modulus>\n",
    "          <drake:mu_dynamic>1</drake:mu_dynamic>\n",
    "          <drake:mu_static>1</drake:mu_static>\n",
    "          <drake:hunt_crossley_dissipation>0</drake:hunt_crossley_dissipation>\n",
    "          <drake:relaxation_time>0</drake:relaxation_time>\n",
    "        </drake:proximity_properties>\n",
    "      </collision>\n",
    "    </link>\n",
    "    <frame name=\"top_surface\">\n",
    "      <pose relative_to=\"compliant_box_link\">0 0 0.025 0 0 0</pose>\n",
    "    </frame>\n",
    "  </model>\n",
    "</sdf>\n",
    "\n",
    "\"\"\"\n",
    "\n",
    "# Visualize the SDFormat string you just defined.\n",
    "visualizer = ModelVisualizer(meshcat=meshcat)\n",
    "visualizer.parser().AddModelsFromString(compliant_box_sdf, \"sdf\")\n",
    "visualizer.Run(loop_once=True)"
   ]
  },
  {
   "cell_type": "markdown",
   "metadata": {},
   "source": [
    "## Create Diagram of the scene\n",
    "\n",
    "The function `create_scene()` below creates a scene using the two objects that we created above.\n",
    "\n",
    "It uses `DiagramBuilder` to create `MultibodyPlant` and `SceneGraph`. It uses `Parser` to add the two SDFormat strings of the two boxes into `Diagram` of the scene.\n",
    "\n",
    "It fixes the rigid box's top surface to the world frame by calling `WeldFrames()`.\n",
    "\n",
    "It sets the initial pose of the cylinder in the world frame.\n",
    "\n",
    "After this step, the next section will add visualization to `DiagramBuilder`."
   ]
  },
  {
   "cell_type": "code",
   "execution_count": 11,
   "metadata": {},
   "outputs": [],
   "source": [
    "import numpy as np\n",
    "\n",
    "from pydrake.math import RigidTransform, RollPitchYaw\n",
    "from pydrake.multibody.parsing import Parser\n",
    "from pydrake.multibody.plant import AddMultibodyPlant, MultibodyPlantConfig\n",
    "from pydrake.systems.framework import DiagramBuilder\n",
    "\n",
    "def create_scene(time_step=1e-3, solver=\"tamsi\"):\n",
    "    # Clear MeshCat window from the previous blocks.\n",
    "    meshcat.Delete()\n",
    "    meshcat.DeleteAddedControls()\n",
    "\n",
    "    builder = DiagramBuilder()\n",
    "    plant, scene_graph = AddMultibodyPlant(\n",
    "        MultibodyPlantConfig(\n",
    "            time_step=time_step,\n",
    "            discrete_contact_solver=solver),\n",
    "        builder)\n",
    "    parser = Parser(plant)\n",
    "\n",
    "    parser.AddModelsFromString(compliant_cylinder_sdf, \"sdf\")\n",
    "    parser.AddModelsFromString(compliant_box_sdf, \"sdf\")\n",
    "\n",
    "    # Weld the rigid box to the world so that it's fixed during simulation.\n",
    "    # The top surface passes the world's origin.\n",
    "    plant.WeldFrames(plant.world_frame(), \n",
    "                     plant.GetFrameByName(\"top_surface\"))\n",
    "\n",
    "    # Finalize the plant after loading the scene.\n",
    "    plant.Finalize()\n",
    "\n",
    "    # Initial pose of the cylinder\n",
    "    # W = world frame\n",
    "    # C = frame at the center of the compliant cylinder\n",
    "    X_WC = RigidTransform(p=[0, 0, 0.03], rpy=RollPitchYaw(0.4 * np.pi, 0, 0))\n",
    "    plant.SetDefaultFreeBodyPose(plant.GetBodyByName(\"compliant_cylinder_link\"), X_WC)\n",
    "\n",
    "    return builder, plant, scene_graph"
   ]
  },
  {
   "cell_type": "markdown",
   "metadata": {},
   "source": [
    "## Set up visualization of the simulation\n",
    "\n",
    "The function `create_scene()` above does not have visualization, so we will add visualization in the function `create_scene_and_viz()` below. \n",
    "\n",
    "We disable `publish_contacts` in this step.  We will add contact visualization in another section with more details."
   ]
  },
  {
   "cell_type": "code",
   "execution_count": 12,
   "metadata": {},
   "outputs": [
    {
     "data": {
      "text/plain": [
       "<pydrake.systems.analysis.SimulatorStatus at 0x7fe4d8dad470>"
      ]
     },
     "execution_count": 12,
     "metadata": {},
     "output_type": "execute_result"
    }
   ],
   "source": [
    "from pydrake.visualization import ApplyVisualizationConfig, VisualizationConfig\n",
    "\n",
    "def create_scene_and_viz(time_step=1e-3, solver=\"tamsi\"):\n",
    "    builder, plant, scene_graph = create_scene(time_step, solver)\n",
    "   \n",
    "    ApplyVisualizationConfig(\n",
    "        config=VisualizationConfig(\n",
    "                   publish_period = 1 / 512.0,\n",
    "                   publish_contacts = False),\n",
    "        builder=builder, meshcat=meshcat)\n",
    "    \n",
    "    return builder, plant\n",
    "\n",
    "\n",
    "from pydrake.systems.analysis import Simulator\n",
    "\n",
    "# Test creation of the diagram by simulating for 0 second.\n",
    "# For now, use only the DiagramBuilder from the first return value and\n",
    "# ignore the other two return values. We will use them later.\n",
    "builder = create_scene_and_viz()[0]\n",
    "simulator = Simulator(builder.Build())\n",
    "simulator.Initialize()\n",
    "simulator.AdvanceTo(0)"
   ]
  },
  {
   "cell_type": "markdown",
   "metadata": {},
   "source": [
    "# Report contact results numerically\n",
    "\n",
    "We will show you how to report contact results. We will create a simple system to read contact results from `MultibodyPlant` and print them at the end of simulation.  It is the same code as the prequel tutorial that explains how it works."
   ]
  },
  {
   "cell_type": "code",
   "execution_count": 13,
   "metadata": {},
   "outputs": [],
   "source": [
    "from pydrake.systems.framework import LeafSystem\n",
    "from pydrake.common.value import AbstractValue\n",
    "from pydrake.multibody.plant import ContactResults\n",
    "\n",
    "class HydroelasticContactReporter(LeafSystem):\n",
    "    def __init__(self):\n",
    "        super().__init__()  # Don't forget to initialize the base class.\n",
    "        self.DeclareAbstractInputPort(\n",
    "            name=\"contact_results\",\n",
    "            model_value=AbstractValue.Make(\n",
    "                # Input port will take ContactResults from MultibodyPlant\n",
    "                ContactResults()))\n",
    "        # Calling `ForcedPublish()` will trigger the callback.\n",
    "        self.DeclareForcedPublishEvent(self.Publish)\n",
    "        \n",
    "    def Publish(self, context):\n",
    "        print()\n",
    "        print(f\"ContactReporter::Publish() called at time={context.get_time()}\")\n",
    "        contact_results = self.get_input_port().Eval(context)\n",
    "        \n",
    "        num_hydroelastic_contacts = contact_results.num_hydroelastic_contacts()\n",
    "        print(f\"num_hydroelastic_contacts() = {num_hydroelastic_contacts}\")\n",
    "        \n",
    "        for c in range(num_hydroelastic_contacts):\n",
    "            print()\n",
    "            print(f\"hydroelastic_contact_info({c}): {c}-th hydroelastic contact patch\")\n",
    "            hydroelastic_contact_info = contact_results.hydroelastic_contact_info(c)\n",
    "            \n",
    "            spatial_force = hydroelastic_contact_info.F_Ac_W()\n",
    "            print(f\"F_Ac_W(): spatial force (on body A, at centroid of contact surface, in World frame) = \\\\\")\n",
    "            print(f\"{spatial_force}\")\n",
    "                        \n",
    "            print(f\"contact_surface()\")\n",
    "            contact_surface = hydroelastic_contact_info.contact_surface()\n",
    "            num_faces = contact_surface.num_faces()\n",
    "            total_area = contact_surface.total_area()\n",
    "            centroid = contact_surface.centroid()\n",
    "            print(f\"total_area(): area of contact surface in m^2 = {total_area}\")\n",
    "            print(f\"num_faces(): number of polygons or triangles = {num_faces}\")\n",
    "            print(f\"centroid(): centroid (in World frame) = {centroid}\")        \n",
    "        \n",
    "        print()\n",
    "\n",
    "def create_scene_with_contact_report(time_step=1e-3, solver=\"tamsi\"):\n",
    "    builder, plant = create_scene_and_viz(time_step, solver)\n",
    "    \n",
    "    contact_reporter = builder.AddSystem(HydroelasticContactReporter())    \n",
    "    builder.Connect(plant.get_contact_results_output_port(),\n",
    "                    contact_reporter.get_input_port(0))\n",
    "        \n",
    "    return builder, plant"
   ]
  },
  {
   "cell_type": "markdown",
   "metadata": {},
   "source": [
    "# Visualize contact results\n",
    "\n",
    "To visualize contact results, we will add `ContactVisualizer` to `Diagram` of the previous section.\n",
    "\n",
    "The following function `create_scene_with_contact_report_and_viz()` adds `ContactVisualizer` to `DiagramBuilder` using `MultibodyPlant` and `meshcat`.\n",
    "\n",
    "With `newtons_per_meter= 1e2`, it will draw a red arrow of length 1 centimeter for each force of 1 newton. With `newtons_meters_per_meter= 1e0`, it will draw a blue arrow of length 1 meter for each torque of 1 newton\\*meter."
   ]
  },
  {
   "cell_type": "code",
   "execution_count": 14,
   "metadata": {},
   "outputs": [],
   "source": [
    "from pydrake.multibody.meshcat import ContactVisualizer, ContactVisualizerParams\n",
    "\n",
    "\n",
    "def create_scene_with_contact_report_and_viz(time_step=1e-3, solver=\"tamsi\"):\n",
    "    builder, plant = create_scene_with_contact_report(time_step, solver)\n",
    "    \n",
    "    ContactVisualizer.AddToBuilder(\n",
    "        builder, plant, meshcat,\n",
    "        ContactVisualizerParams(\n",
    "            publish_period= 1.0 / 512.0,\n",
    "            newtons_per_meter= 1e2,\n",
    "            newton_meters_per_meter= 5e-1))\n",
    "\n",
    "    return builder, plant"
   ]
  },
  {
   "cell_type": "markdown",
   "metadata": {},
   "source": [
    "## Run simulation with contact visualization\n",
    "\n",
    "The following code will run the simulation and show pictures like this:\n",
    "\n",
    "![EulerDisk_force_torque](./images/EulerDisk_force_torque.png)\n",
    "\n",
    "The red arrow represents the force `f`, and the blue arrow represents the torque `tau`, which is also reported numerically at the end of simulation.\n",
    "\n",
    "We set `simulator.set_target_realtime_rate(1)`, so `simulator` will try to publish results at real-time rate. However, since we will use small time step to capture physics, it is unlikely to be real time. The next section *Playback the recording* will replay animation, and then you can choose the playback speed.\n",
    "\n",
    "At the end of simulation, the contact report like `f=[-6.889110099915437e-13, -1.5287151408153817e-11, 9.810000000350467]` means the force acting on the cylinder is 9.81 newtons, which makes sense because the cylinder is 1 kg. The documentation of [ContactResults](https://drake.mit.edu/doxygen_cxx/classdrake_1_1multibody_1_1_contact_results.html) and [HydroelasticContactInfo](https://drake.mit.edu/doxygen_cxx/classdrake_1_1multibody_1_1_hydroelastic_contact_info.html) has more explanation."
   ]
  },
  {
   "cell_type": "code",
   "execution_count": 15,
   "metadata": {},
   "outputs": [
    {
     "name": "stdout",
     "output_type": "stream",
     "text": [
      "\n",
      "ContactReporter::Publish() called at time=3.0\n",
      "num_hydroelastic_contacts() = 1\n",
      "\n",
      "hydroelastic_contact_info(0): 0-th hydroelastic contact patch\n",
      "F_Ac_W(): spatial force (on body A, at centroid of contact surface, in World frame) = \\\n",
      "SpatialForce(\n",
      "  tau=[-5.098176791024853e-13, -7.577400020474465e-14, 6.077687608545623e-19],\n",
      "  f=[-6.889110099915437e-13, -1.5287151408153817e-11, 9.810000000350467],\n",
      ")\n",
      "contact_surface()\n",
      "total_area(): area of contact surface in m^2 = 0.0050138449172460195\n",
      "num_faces(): number of polygons or triangles = 343\n",
      "centroid(): centroid (in World frame) = [-0.02448112 -0.00362292 -0.01000001]\n",
      "\n"
     ]
    }
   ],
   "source": [
    "from pydrake.systems.analysis import Simulator\n",
    "\n",
    "def run_simulation_with_contact_report_and_viz(sim_time, time_step=1e-3, solver=\"tamsi\"):\n",
    "    builder, plant = create_scene_with_contact_report_and_viz(time_step, solver)\n",
    "    \n",
    "    diagram = builder.Build()\n",
    "    \n",
    "    simulator = Simulator(diagram)\n",
    "    simulator.Initialize()\n",
    "    simulator.set_target_realtime_rate(1)\n",
    "    \n",
    "    v_init = np.hstack((np.array([0, 0, 2 * np.pi]), np.array([0, 0, 0])))\n",
    "    \n",
    "    plant_context = diagram.GetSubsystemContext(plant, simulator.get_context())\n",
    "    plant.SetVelocities(plant_context, v_init)\n",
    "    \n",
    "    meshcat.StartRecording(frames_per_second=512.0)\n",
    "    simulator.AdvanceTo(sim_time)\n",
    "    meshcat.StopRecording()\n",
    "\n",
    "    # Numerically report contact results at the end of simulation.\n",
    "    diagram.ForcedPublish(simulator.get_context())\n",
    "\n",
    "    \n",
    "run_simulation_with_contact_report_and_viz(sim_time=3, time_step=1e-4)"
   ]
  },
  {
   "cell_type": "markdown",
   "metadata": {},
   "source": [
    "## Playback the recording\n",
    "\n",
    "In MeshCat tab, playback with `timeScale` 1, 0.1, and 0.05 to appreciate dynamics. You should see the force and torque vectors oscillate synchronously with the rolling disk.\n",
    "\n",
    "If you are not familiar with `Animations` in MeshCat, please see the prequel tutorial."
   ]
  },
  {
   "cell_type": "code",
   "execution_count": 16,
   "metadata": {},
   "outputs": [],
   "source": [
    "# Hack to delete the contact surface because MeshcatAnimation does not record it.\n",
    "meshcat.Delete(\"/drake/contact_forces/hydroelastic/compliant_cylinder_link+compliant_box_link/contact_surface\");\n",
    "\n",
    "meshcat.PublishRecording()"
   ]
  },
  {
   "cell_type": "markdown",
   "metadata": {},
   "source": [
    "# Extra 1\n",
    "\n",
    "Uncomment the code below and run it. How large is force and torque at 0.2 second?"
   ]
  },
  {
   "cell_type": "code",
   "execution_count": null,
   "metadata": {},
   "outputs": [],
   "source": [
    "# run_simulation_with_contact_report_and_viz(sim_time=0.2, time_step=1e-4)"
   ]
  },
  {
   "cell_type": "markdown",
   "metadata": {},
   "source": [
    "# Extra 2\n",
    "\n",
    "Uncomment the code below and run it to record results into a html file."
   ]
  },
  {
   "cell_type": "code",
   "execution_count": null,
   "metadata": {},
   "outputs": [],
   "source": [
    "# html_file = open(\"/home/damrongguoy/record_hydro_compliant_cylinder_compliant_box.html\", \"wt\")\n",
    "# html_file.write(meshcat.StaticHtml())\n",
    "# html_file.close()"
   ]
  },
  {
   "cell_type": "markdown",
   "metadata": {},
   "source": [
    "## Further reading\n",
    "\n",
    "* [hydroelastic contact user guide](https://drake.mit.edu/doxygen_cxx/group__hydroelastic__user__guide.html)"
   ]
  }
 ],
 "metadata": {
  "kernelspec": {
   "display_name": "Python 3",
   "language": "python",
   "name": "python3"
  },
  "language_info": {
   "codemirror_mode": {
    "name": "ipython",
    "version": 3
   },
   "file_extension": ".py",
   "mimetype": "text/x-python",
   "name": "python",
   "nbconvert_exporter": "python",
   "pygments_lexer": "ipython3",
   "version": "3.8.10"
  }
 },
 "nbformat": 4,
 "nbformat_minor": 2
}
