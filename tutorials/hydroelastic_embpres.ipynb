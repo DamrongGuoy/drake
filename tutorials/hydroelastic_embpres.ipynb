{
 "cells": [
  {
   "cell_type": "markdown",
   "metadata": {},
   "source": [
    "# Hydroelastic Contact: Embedded Pressure Field\n",
    "For instructions on how to run these tutorial notebooks, please see the [index](./index.ipynb).\n",
    "\n",
    "If you are not familiar with Drake's hydroelastic contact, study [hydroelastic_contact_basics.ipynb](./hydroelastic_contact_basics.ipynb). You can also find more information in Hydroelastic Contact User Guide [here.](https://drake.mit.edu/doxygen_cxx/group__hydroelastic__user__guide.html)"
   ]
  },
  {
   "cell_type": "code",
   "execution_count": null,
   "metadata": {},
   "outputs": [],
   "source": [
    "import os\n",
    "from pathlib import Path\n",
    "\n",
    "from IPython.display import Code\n",
    "\n",
    "from pydrake.geometry import StartMeshcat, Rgba\n",
    "from pydrake.math import RigidTransform\n",
    "from pydrake.multibody.meshcat import ContactVisualizer, ContactVisualizerParams\n",
    "from pydrake.multibody.parsing import PackageMap, Parser\n",
    "from pydrake.multibody.plant import AddMultibodyPlant, MultibodyPlantConfig\n",
    "from pydrake.systems.analysis import Simulator\n",
    "from pydrake.systems.framework import DiagramBuilder\n",
    "from pydrake.visualization import ApplyVisualizationConfig, ModelVisualizer, VisualizationConfig"
   ]
  },
  {
   "cell_type": "markdown",
   "metadata": {},
   "source": [
    "## Start MeshCat\n",
    "\n",
    "See the section [Viewing models](./authoring_multibody_simulation.ipynb#Viewing-models) in the tutorial [Authoring a Multibody Simulation](./authoring_multibody_simulation.ipynb) for an introduction to MeshCat."
   ]
  },
  {
   "cell_type": "code",
   "execution_count": null,
   "metadata": {},
   "outputs": [],
   "source": [
    "# Start the visualizer. The cell will output an HTTP link after the execution.\n",
    "# Click the link and a MeshCat tab should appear in your browser.\n",
    "meshcat = StartMeshcat()"
   ]
  },
  {
   "cell_type": "markdown",
   "metadata": {},
   "source": [
    "## Use Experimental VTK file of Embedded Signed Distance Field instead of Body-fitted Tetrahedral Mesh\n",
    "\n",
    "The finer one (pepper_embsdf.vtk, offset 5mm, grid 1cm) is slower than the body-fitted mesh.\n",
    "The coarser one (yellow_pepper_Offset1cmGrid2cm_sdfield.vtk, offset 1cm, grid 2cm) is faster.\n"
   ]
  },
  {
   "cell_type": "code",
   "execution_count": null,
   "metadata": {},
   "outputs": [],
   "source": [
    "# Show the contents of the SDFormat file after replacing the VTK file.\n",
    "bell_pepper_str = Path(PackageMap().ResolveUrl(\n",
    "    \"package://drake_models/veggies/yellow_bell_pepper_no_stem_low.sdf\")).read_text(encoding=\"utf-8\")\n",
    "bell_pepper_str = bell_pepper_str.replace(\n",
    "    \"package://drake_models/veggies/assets/yellow_bell_pepper_no_stem_low.vtk\",\n",
    "    # Choose one from these three choices: original (300% rtr),\n",
    "    # finer EmPres (170% rtr), or coarser EmPres (300% rtr).\n",
    "    # \"package://drake_models/veggies/assets/yellow_bell_pepper_no_stem_low.vtk\",\n",
    "    # \"package://drake/tutorials/pepper_embsdf.vtk\"\n",
    "    \"package://drake/tutorials/yellow_pepper_Offset1cmGrid2cm_sdfield.vtk\"\n",
    ")\n",
    "Code(bell_pepper_str, language=\"xml\")"
   ]
  },
  {
   "cell_type": "code",
   "execution_count": null,
   "metadata": {},
   "outputs": [],
   "source": [
    "# Visualize the SDFormat file you just defined.\n",
    "visualizer = ModelVisualizer(meshcat=meshcat)\n",
    "visualizer.parser().AddModels(file_contents=bell_pepper_str, file_type=\"sdf\")\n",
    "visualizer.Run(loop_once=True)"
   ]
  },
  {
   "cell_type": "markdown",
   "metadata": {},
   "source": [
    "## Create compliant-hydroelastic table top in URDF\n",
    "\n",
    "The following URDF file specifies a compliant-hydroelastic box for a table top.  We demonstrate how to set relevant hydroelastic properties in URDF; however, Drake prefers SDFormat to URDF.\n",
    "\n",
    "Both the `<visual>` and `<collision>` geometries are boxes of the same size.\n",
    "\n",
    "In the `<drake:proximity_properties>` block, we will set `<drake:hydroelastic_modulus>` to 1e7 Pascals.\n",
    "\n",
    "We do not specify the inertia matrix of the table top because, in the next section when we set up `Diagram`, we will fix the table top to the world frame. It will not move."
   ]
  },
  {
   "cell_type": "code",
   "execution_count": null,
   "metadata": {},
   "outputs": [],
   "source": [
    "# Show the contents of the URDF file.\n",
    "table_top_url = \"package://drake_models/dishes/table_top.urdf\"\n",
    "table_top_str = Path(PackageMap().ResolveUrl(table_top_url)).read_text(encoding=\"utf-8\")\n",
    "Code(table_top_str, language=\"xml\")"
   ]
  },
  {
   "cell_type": "code",
   "execution_count": null,
   "metadata": {},
   "outputs": [],
   "source": [
    "# Visualize the URDF file.\n",
    "visualizer = ModelVisualizer(meshcat=meshcat)\n",
    "visualizer.AddModels(url=table_top_url)\n",
    "visualizer.Run(loop_once=True)"
   ]
  },
  {
   "cell_type": "markdown",
   "metadata": {},
   "source": [
    "## Create Diagram of the scene\n",
    "\n",
    "The function `add_scene()` below will create a scene using the assets that we created. It will use `Parser` to add the URDF and SDFormat strings into the scene. After this step, the next section will add visualization."
   ]
  },
  {
   "cell_type": "code",
   "execution_count": null,
   "metadata": {},
   "outputs": [],
   "source": [
    "def add_scene(time_step):\n",
    "    builder = DiagramBuilder()\n",
    "    plant, scene_graph = AddMultibodyPlant(\n",
    "        MultibodyPlantConfig(\n",
    "            time_step=time_step,\n",
    "            discrete_contact_approximation=\"lagged\"),\n",
    "        builder)\n",
    "    parser = Parser(plant)\n",
    "\n",
    "    # Load the assets that we created.\n",
    "    parser.AddModels(file_contents=bell_pepper_str, file_type=\"sdf\")\n",
    "    parser.AddModels(url=table_top_url)\n",
    "\n",
    "    # Weld the table top to the world so that it's fixed during simulation.\n",
    "    # The top surface passes the world's origin.\n",
    "    plant.WeldFrames(plant.world_frame(), \n",
    "                     plant.GetFrameByName(\"top_surface\"))\n",
    "\n",
    "    # Finalize the plant after loading the scene.\n",
    "    plant.Finalize()\n",
    "    \n",
    "    # Drop the bell pepper 10 centimeters (measured from its frame's origin) above the ground.\n",
    "    X_WC = RigidTransform(p=[0, 0, 0.10])\n",
    "    plant.SetDefaultFreeBodyPose(plant.GetBodyByName(\"yellow_bell_pepper_no_stem\"), X_WC)\n",
    "\n",
    "    return builder, plant"
   ]
  },
  {
   "cell_type": "markdown",
   "metadata": {},
   "source": [
    "## Set up visualization\n",
    "\n",
    "The function `add_viz()` below will create visualization. First we will call `ApplyVisualizationConfig()` to visualize our assets. At this step we will set `publish_contacts=False`, so we can customize contact visualization afterwards. \n",
    "\n",
    "To visualize contact result, we will add `ContactVisualizer` with `newtons_per_meter= 20` and `newtons_meters_per_meter= 0.1`. It will draw a red arrow of length 1 meter for each force of 20 newtons and a blue arrow of length 1 meter for each torque of 0.1 newton\\*meters. The next section will run the simulation."
   ]
  },
  {
   "cell_type": "code",
   "execution_count": null,
   "metadata": {},
   "outputs": [],
   "source": [
    "def add_viz(builder, plant):\n",
    "    ApplyVisualizationConfig(\n",
    "        builder=builder, meshcat=meshcat,\n",
    "        config=VisualizationConfig(\n",
    "                 default_proximity_color=Rgba(r=0.8, g=0, b=0, a=0.5),\n",
    "                 publish_contacts=False))    \n",
    "    ContactVisualizer.AddToBuilder(\n",
    "        builder=builder, plant=plant, meshcat=meshcat,\n",
    "        params=ContactVisualizerParams(\n",
    "                 newtons_per_meter=20,\n",
    "                 newton_meters_per_meter= 0.1))"
   ]
  },
  {
   "cell_type": "markdown",
   "metadata": {},
   "source": [
    "## Run simulation\n",
    "\n",
    "We will run the simulation. In MeshCat, the red arrow will represent the force `f`, and the blue arrow will represent the torque `tau`. You should see the contact patch moving around together with the force and torque vectors.\n",
    "\n",
    "After running the code below, playback with `timeScale` = 0.1 to appreciate the contact dynamics. You should see the force and torque vectors oscillate synchronously with the rocking bell pepper and bowl. See the section *Playback recording of the simulation* in [hydroelastic_contact_basics.ipynb](./hydroelastic_contact_basics.ipynb) for more details.\n",
    "\n",
    "Currently playing back the simulation will show contact force and torque correctly; however, it does not show contact patch appropriately, which could be confusing. Issue [19142](https://github.com/RobotLocomotion/drake/issues/19142) explains the problem in more details."
   ]
  },
  {
   "cell_type": "code",
   "execution_count": null,
   "metadata": {},
   "outputs": [],
   "source": [
    "# Clear MeshCat window from the previous blocks.\n",
    "meshcat.Delete()\n",
    "meshcat.DeleteAddedControls()\n",
    "\n",
    "time_step = 1e-2\n",
    "builder, plant = add_scene(time_step)\n",
    "add_viz(builder, plant)\n",
    "\n",
    "diagram = builder.Build()\n",
    "\n",
    "simulator = Simulator(diagram)\n",
    "\n",
    "sim_time = 2\n",
    "\n",
    "meshcat.StartRecording()\n",
    "simulator.set_target_realtime_rate(10)\n",
    "simulator.AdvanceTo(sim_time)\n",
    "meshcat.StopRecording()\n",
    "meshcat.PublishRecording()"
   ]
  },
  {
   "cell_type": "markdown",
   "metadata": {},
   "source": [
    "## Download simulation result into a html file for sharing\n",
    "\n",
    "You can download the simulation result into a self-contained html file, allowing others to playback the simulated results without simulating. The following code prints the URL for downloading. Click on the printed URL to download."
   ]
  },
  {
   "cell_type": "code",
   "execution_count": null,
   "metadata": {},
   "outputs": [],
   "source": [
    "print(f\"{meshcat.web_url()}/download\")"
   ]
  },
  {
   "cell_type": "markdown",
   "metadata": {},
   "source": [
    "## Further reading\n",
    "\n",
    "* [Hydroelastic Contact User Guide](https://drake.mit.edu/doxygen_cxx/group__hydroelastic__user__guide.html)\n",
    "\n",
    "* Elandt, R., Drumwright, E., Sherman, M., & Ruina, A. (2019, November). A pressure field model for fast, robust approximation of net contact force and moment between nominally rigid objects. In 2019 IEEE/RSJ International Conference on Intelligent Robots and Systems(IROS) (pp. 8238-8245). IEEE. [link](https://arxiv.org/abs/1904.11433)\n",
    "\n",
    "* Masterjohn, J., Guoy, D., Shepherd, J., & Castro, A. (2022). Velocity Level Approximation of Pressure Field Contact Patches. IEEE Robotics and Automation Letters 7, no. 4 (2022): 11593-11600. [link](https://arxiv.org/abs/2110.04157v2)\n",
    "\n",
    "* Elandt, R. (2022, December). Pressure Field Contact. Dissertation. Cornell University. [link](https://ecommons.cornell.edu/handle/1813/112919)"
   ]
  }
 ],
 "metadata": {
  "kernelspec": {
   "display_name": "Python 3 (ipykernel)",
   "language": "python",
   "name": "python3"
  },
  "language_info": {
   "codemirror_mode": {
    "name": "ipython",
    "version": 3
   },
   "file_extension": ".py",
   "mimetype": "text/x-python",
   "name": "python",
   "nbconvert_exporter": "python",
   "pygments_lexer": "ipython3",
   "version": "3.10.12"
  }
 },
 "nbformat": 4,
 "nbformat_minor": 2
}
