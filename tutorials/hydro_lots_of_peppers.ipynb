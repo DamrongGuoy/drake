{
 "cells": [
  {
   "cell_type": "markdown",
   "metadata": {},
   "source": [
    "# Hydroelastic Contact: Non-convex compliant meshes\n",
    "For instructions on how to run these tutorial notebooks, please see the [index](./index.ipynb).\n",
    "\n",
    "If you are not familiar with Drake's hydroelastic contact model, first study [hydroelastic_contact_basics.ipynb](./hydroelastic_contact_basics.ipynb). You can also find more information in Hydroelastic Contact User Guide [here.](https://drake.mit.edu/doxygen_cxx/group__hydroelastic__user__guide.html)"
   ]
  },
  {
   "cell_type": "markdown",
   "metadata": {},
   "source": [
    "## Start MeshCat\n",
    "\n",
    "See the section [Viewing models](./authoring_multibody_simulation.ipynb#Viewing-models) in the tutorial [Authoring a Multibody Simulation](./authoring_multibody_simulation.ipynb) for an introduction to MeshCat."
   ]
  },
  {
   "cell_type": "code",
   "execution_count": 1,
   "metadata": {},
   "outputs": [
    {
     "name": "stderr",
     "output_type": "stream",
     "text": [
      "INFO:drake:Meshcat listening for connections at http://localhost:7000\n"
     ]
    }
   ],
   "source": [
    "from pydrake.geometry import StartMeshcat\n",
    "\n",
    "# Start the visualizer. The cell will output an HTTP link after the execution.\n",
    "# Click the link and a MeshCat tab should appear in your browser.\n",
    "meshcat = StartMeshcat()"
   ]
  },
  {
   "cell_type": "markdown",
   "metadata": {},
   "source": [
    "## Create compliant-hydroelastic mesh of a bell pepper\n",
    "\n",
    "*Make sure you have the MeshCat tab opened in your browser;\n",
    "the link is shown immediately above.*\n"
   ]
  },
  {
   "cell_type": "code",
   "execution_count": 2,
   "metadata": {},
   "outputs": [],
   "source": [
    "from pydrake.visualization import ModelVisualizer\n",
    "\n",
    "# Create model with name: yellow_pepper_{number}\n",
    "def yellow_pepper(number='0'):\n",
    "    return f\"\"\"<?xml version=\"1.0\"?>\n",
    "    <sdf version=\"1.7\" xmlns:drake=\"drake.mit.edu\">\n",
    "      <model name=\"yellow_pepper_{number}\">\n",
    "        <link name=\"yellow_pepper_{number}\">\n",
    "          <pose>0 0 0 0 0 0</pose>\n",
    "          <inertial>\n",
    "            <pose>0.000537 -0.00272 0.0384 0 0 0</pose>\n",
    "            <mass>0.159</mass>\n",
    "            <inertia>\n",
    "              <ixx> 0.000101</ixx>\n",
    "              <ixy>-0.000001</ixy>\n",
    "              <ixz>-0.000004</ixz>\n",
    "              <iyy> 0.000105</iyy>\n",
    "              <iyz> 0.000007</iyz>\n",
    "              <izz> 0.000107</izz>\n",
    "            </inertia>\n",
    "          </inertial>\n",
    "          <visual name=\"yellow_bell_pepper_no_stem\">\n",
    "            <pose>0 0 0 0 0 0</pose>\n",
    "            <geometry>\n",
    "              <mesh>\n",
    "                <uri>package://drake_models/veggies/yellow_bell_pepper_no_stem_low.obj</uri>\n",
    "                <scale>1 1 1</scale>\n",
    "              </mesh>\n",
    "            </geometry>\n",
    "          </visual>\n",
    "          <collision name=\"collision\">\n",
    "            <pose>0 0 0 0 0 0</pose>\n",
    "            <geometry>\n",
    "              <mesh>\n",
    "                <uri>package://drake_models/veggies/yellow_bell_pepper_no_stem_low.vtk</uri>\n",
    "                <scale>1 1 1</scale>\n",
    "              </mesh>\n",
    "            </geometry>\n",
    "            <drake:proximity_properties>\n",
    "              <drake:compliant_hydroelastic/>\n",
    "              <drake:hydroelastic_modulus>5.0e4</drake:hydroelastic_modulus>\n",
    "              <!-- Most shapes (capsule, cylinder, ellipsoid, sphere) need\n",
    "                drake:mesh_resolution_hint, but the resolution hint is no-op\n",
    "                for the mesh geometry. That's why we do not set it here. -->\n",
    "              <drake:hunt_crossley_dissipation>10</drake:hunt_crossley_dissipation>\n",
    "              <!-- Both mu_dynamic and mu_static are used in Continuous system.\n",
    "                Only mu_dynamic is used in Discrete system.  -->\n",
    "              <drake:mu_dynamic> 1 </drake:mu_dynamic>\n",
    "              <drake:mu_static> 1 </drake:mu_static>\n",
    "            </drake:proximity_properties>\n",
    "          </collision>\n",
    "        </link>\n",
    "        <frame name=\"origin\">\n",
    "          <pose relative_to=\"yellow_pepper_{number}\">0 0 0 0 0 0</pose>\n",
    "        </frame>\n",
    "        <frame name=\"flush_bottom_center__z_up\">\n",
    "          <pose relative_to=\"yellow_pepper_{number}\">0 0 0 0 0 0</pose>\n",
    "        </frame>\n",
    "      </model>\n",
    "    </sdf>\n",
    "    \"\"\"\n",
    "\n",
    "pepper0 = yellow_pepper('0')\n",
    "\n",
    "visualizer = ModelVisualizer(meshcat=meshcat, visualize_frames=True)\n",
    "visualizer.parser().AddModelsFromString(pepper0, \"sdf\")\n",
    "visualizer.Run(loop_once=True)"
   ]
  },
  {
   "cell_type": "markdown",
   "metadata": {},
   "source": [
    "## Create rigid-hydroelastic box\n",
    "\n",
    "The following SDFormat string specifies a rigid-hydroelastic box. It is similar to the compliant-hydroelastic box.\n",
    "\n",
    "Both the `<visual>` and `<collision>` geometries are boxes of size 60cm x 1m x 5cm. Observe in MeshCat the X(red), Y(green), and Z(blue) axes.\n",
    "\n",
    "Use the tag `<drake:rigid_hydroelastic/>` to specify a rigid-hydroelastic geometry. It does not use `<drake:hydroelastic_modulus>`. Intuitively it has infinite hydroelastic modulus.\n",
    "\n",
    "This rigid-hydroelastic box uses the same friction coefficient and dissipation constants as the previous compliant-hydroelastic box.\n",
    "\n",
    "We do not specify `<mass>` and `<inertia>` of the rigid box because, in the next section when we set up `Diagram`, we will fix the rigid box to the world frame. It will not move.\n",
    "\n",
    "The `<frame name=\"top_surface\">` is a frame at the top of the box with the tag:\n",
    "\n",
    "    <pose relative_to=\"rigid_box_link\">0 0 0.025 0 0 0</pose>\n",
    "\n",
    "It is at 2.5cm (half of the box's height) above the center of the box. In the next section, we will create a scene that places the `top_surface` frame at the world's origin."
   ]
  },
  {
   "cell_type": "code",
   "execution_count": 3,
   "metadata": {},
   "outputs": [],
   "source": [
    "from pydrake.visualization import ModelVisualizer\n",
    "\n",
    "# Create a rigid-hydroelastic table top\n",
    "rigid_box_sdf = \"\"\"<?xml version=\"1.0\"?>\n",
    "<sdf version=\"1.7\">\n",
    "  <model name=\"RigidBox\">\n",
    "    <link name=\"rigid_box_link\">\n",
    "      <visual name=\"visual\">\n",
    "        <pose>0 0 0 0 0 0</pose>\n",
    "        <geometry>\n",
    "          <box>\n",
    "            <size>0.6 1.0 0.05</size>\n",
    "          </box>\n",
    "        </geometry>\n",
    "        <material>\n",
    "         <diffuse>0.9 0.8 0.7 0.5</diffuse>\n",
    "        </material>\n",
    "      </visual>\n",
    "      <collision name=\"collision\">\n",
    "        <pose>0 0 0 0 0 0</pose>\n",
    "        <geometry>\n",
    "          <box>\n",
    "            <size>0.6 1.0 0.05</size>\n",
    "          </box>\n",
    "        </geometry>\n",
    "        <drake:proximity_properties>\n",
    "          <drake:rigid_hydroelastic/>\n",
    "          <drake:mu_dynamic>0.5</drake:mu_dynamic>\n",
    "          <drake:hunt_crossley_dissipation>1.25</drake:hunt_crossley_dissipation>\n",
    "          <drake:relaxation_time>0.1</drake:relaxation_time>\n",
    "        </drake:proximity_properties>\n",
    "      </collision>\n",
    "    </link>\n",
    "    <frame name=\"top_surface\">\n",
    "      <pose relative_to=\"rigid_box_link\">0 0 0.025 0 0 0</pose>\n",
    "    </frame>\n",
    "  </model>\n",
    "</sdf>\n",
    "\"\"\"\n",
    "\n",
    "# Visualize the SDFormat string you just defined.\n",
    "visualizer = ModelVisualizer(meshcat=meshcat, visualize_frames=True)\n",
    "visualizer.parser().AddModelsFromString(rigid_box_sdf, \"sdf\")\n",
    "visualizer.Run(loop_once=True)"
   ]
  },
  {
   "cell_type": "markdown",
   "metadata": {},
   "source": [
    "## Create Diagram of the scene\n",
    "\n",
    "The function `add_scene()` below creates a scene using the geometries that we created.\n",
    "\n",
    "It uses `DiagramBuilder` to create `MultibodyPlant` and `SceneGraph`. It uses `Parser` to add the SDFormat strings of the geometries into `Diagram` of the scene.\n",
    "\n",
    "It fixes the rigid box's top surface to the world frame by calling `WeldFrames()`.\n",
    "\n",
    "It places a number of bell peppers above the rigid box.\n",
    "\n",
    "After this step, the next section will add visualization to `DiagramBuilder`."
   ]
  },
  {
   "cell_type": "code",
   "execution_count": 4,
   "metadata": {},
   "outputs": [],
   "source": [
    "from pydrake.math import RigidTransform\n",
    "from pydrake.multibody.parsing import Parser\n",
    "from pydrake.multibody.plant import AddMultibodyPlant, MultibodyPlantConfig\n",
    "from pydrake.systems.framework import DiagramBuilder\n",
    "\n",
    "def clear_meshcat():\n",
    "    # Clear MeshCat window from the previous blocks.\n",
    "    meshcat.Delete()\n",
    "    meshcat.DeleteAddedControls()\n",
    "\n",
    "def add_scene(grid_size=3, time_step=1e-2, solver=\"sap\"):\n",
    "    builder = DiagramBuilder()\n",
    "    plant, scene_graph = AddMultibodyPlant(\n",
    "        MultibodyPlantConfig(\n",
    "            time_step=time_step,\n",
    "            discrete_contact_solver=solver),\n",
    "        builder)\n",
    "    parser = Parser(plant)\n",
    "\n",
    "    # Load the bell peppers and the table-top box.\n",
    "    # The number of bell peppers is the squared grid_size.\n",
    "    # grid_size  number_of_peppers\n",
    "    #     1             1         \n",
    "    #     2             4         \n",
    "    #     3             9         \n",
    "    #     4            16         \n",
    "    #     5            25         \n",
    "    for i in range(grid_size):\n",
    "        for j in range(grid_size):\n",
    "            parser.AddModelsFromString(yellow_pepper(f\"{i}{j}\"), \"sdf\")\n",
    "    parser.AddModelsFromString(rigid_box_sdf, \"sdf\")\n",
    "\n",
    "    # Weld the rigid box to the world so that it's fixed during simulation.\n",
    "    # The top surface passes the world's origin.\n",
    "    plant.WeldFrames(plant.world_frame(), \n",
    "                     plant.GetFrameByName(\"top_surface\"))\n",
    "\n",
    "    # Finalize the plant after loading the scene.\n",
    "    plant.Finalize()\n",
    "\n",
    "    # Set how high the bottom of the yellow bell pepper is from the world's origin. \n",
    "    for i in range(grid_size):\n",
    "        for j in range(grid_size):\n",
    "            plant.SetDefaultFreeBodyPose(\n",
    "                plant.GetBodyByName(f\"yellow_pepper_{i}{j}\"),\n",
    "                RigidTransform(p=[-0.15 + 0.07 * i, -0.15 + 0.07 * j, 0.20]))\n",
    "\n",
    "\n",
    "    return builder, plant"
   ]
  },
  {
   "cell_type": "markdown",
   "metadata": {},
   "source": [
    "## Set up visualization of the simulation\n",
    "\n",
    "The function `add_scene()` above does not have visualization, so we will do it in the function `add_viz()` below.\n",
    "\n",
    "It uses `DiagramBuilder` from `add_scene()`. The `meshcat` interface represents the same MeshCat window that we have been using.\n",
    "\n",
    "We set the `publish_period` to 1/16 to publish 16 frames per simulated second. See documentation of [VisualizationConfig](https://drake.mit.edu/doxygen_cxx/structdrake_1_1visualization_1_1_visualization_config.html) for more details.\n",
    "\n",
    "At this step we set `publish_contacts` to `False`, we will set up contact visualization near the end of this tutorial.\n",
    "\n",
    "We test the creation of `Diagram` by simulating for 0 second. It shows the initial condition."
   ]
  },
  {
   "cell_type": "code",
   "execution_count": 5,
   "metadata": {},
   "outputs": [
    {
     "name": "stdout",
     "output_type": "stream",
     "text": [
      "0.0\n"
     ]
    }
   ],
   "source": [
    "from pydrake.visualization import ApplyVisualizationConfig, VisualizationConfig\n",
    "\n",
    "def add_viz(builder, plant):\n",
    "    ApplyVisualizationConfig(\n",
    "        config=VisualizationConfig(\n",
    "                   publish_period = 1 / 16.0,\n",
    "                   publish_contacts = False),\n",
    "        builder=builder, meshcat=meshcat)\n",
    "    \n",
    "    return builder, plant\n",
    "\n",
    "\n",
    "from pydrake.systems.analysis import Simulator\n",
    "\n",
    "# Test creation of the diagram by simulating for 0 second.\n",
    "# For now, use only the DiagramBuilder from the first return value and\n",
    "# ignore the other return value. We will use it later.\n",
    "clear_meshcat()\n",
    "builder, plant = add_scene(grid_size=2)\n",
    "add_viz(builder, plant)\n",
    "simulator = Simulator(builder.Build())\n",
    "simulator.Initialize()\n",
    "simulator.AdvanceTo(0)\n",
    "\n",
    "print(simulator.get_actual_realtime_rate())"
   ]
  },
  {
   "cell_type": "markdown",
   "metadata": {},
   "source": [
    "### Run the simulation\n",
    "\n",
    "We define the function `run_simulation()` below. It builds `Diagram` using `DiagramBuilder` from the previous step. It passes `Diagram` to `Simulator`.You should see the bell peppers drop down to make contact with the rigid box."
   ]
  },
  {
   "cell_type": "code",
   "execution_count": 6,
   "metadata": {},
   "outputs": [
    {
     "name": "stdout",
     "output_type": "stream",
     "text": [
      "0.038945458279148554\n"
     ]
    }
   ],
   "source": [
    "from pydrake.systems.analysis import Simulator\n",
    "\n",
    "def run_simulation(sim_time):\n",
    "    clear_meshcat()\n",
    "    \n",
    "    # grid_size  number_of_peppers   real_time_rate\n",
    "    #     1             1            380%\n",
    "    #     2             4             50%\n",
    "    #     3             9             16%\n",
    "    #     4            16              7%\n",
    "    #     5            25              4%\n",
    "    builder, plant = add_scene(grid_size=5)\n",
    "    add_viz(builder, plant)\n",
    "    \n",
    "    diagram = builder.Build()\n",
    "    \n",
    "    simulator = Simulator(diagram)\n",
    "    simulator.Initialize()\n",
    "    simulator.set_target_realtime_rate(0)\n",
    "    \n",
    "    simulator.AdvanceTo(sim_time)\n",
    "    \n",
    "    print(simulator.get_actual_realtime_rate())\n",
    "\n",
    "run_simulation(sim_time=1)"
   ]
  },
  {
   "cell_type": "markdown",
   "metadata": {},
   "source": [
    "## Visualize contact results\n",
    "\n",
    "To visualize contact results, we will add `ContactVisualizer` to `Diagram` of the previous section.\n",
    "\n",
    "The following function `add_contact_viz()` adds `ContactVisualizer` to `DiagramBuilder` using `MultibodyPlant` and `Meshcat`.\n",
    "\n",
    "With `newtons_per_meter= 2e1`, it will draw a red arrow of length 1 meter for each force of 20 newtons. With `newtons_meters_per_meter= 1e-1`, it will draw a blue arrow of length 1 meter for each torque of 0.1 newton\\*meters. The next section will run the simulation."
   ]
  },
  {
   "cell_type": "code",
   "execution_count": 7,
   "metadata": {},
   "outputs": [],
   "source": [
    "from pydrake.multibody.meshcat import ContactVisualizer, ContactVisualizerParams\n",
    "\n",
    "\n",
    "def add_contact_viz(builder, plant):\n",
    "    contact_viz = ContactVisualizer.AddToBuilder(\n",
    "        builder, plant, meshcat,\n",
    "        ContactVisualizerParams(\n",
    "            publish_period= 1.0 / 8.0,\n",
    "            newtons_per_meter= 10,\n",
    "            newton_meters_per_meter= 1e-1))\n",
    "\n",
    "    return builder, plant"
   ]
  },
  {
   "cell_type": "markdown",
   "metadata": {},
   "source": [
    "### Run simulation with contact visualization\n",
    "\n",
    "The following code will run the simulation. In MeshCat, the red arrow represents the force `f`, and the blue arrow represents the torque `tau`. You should see the contact patch moving around together with the force and torque vectors. At the end of simulation, it will also report contact result numerically."
   ]
  },
  {
   "cell_type": "code",
   "execution_count": 8,
   "metadata": {},
   "outputs": [
    {
     "name": "stdout",
     "output_type": "stream",
     "text": [
      "0.039785389958221985\n"
     ]
    }
   ],
   "source": [
    "from pydrake.systems.analysis import Simulator\n",
    "\n",
    "def run_simulation_with_contact_viz(sim_time):\n",
    "    clear_meshcat()\n",
    "            \n",
    "    # grid_size  number_of_peppers   real_time_rate\n",
    "    #     1             1            360%\n",
    "    #     2             4             50%\n",
    "    #     3             9             16%\n",
    "    #     4            16              7%\n",
    "    #     5            25              4%\n",
    "    builder, plant = add_scene(grid_size=5)\n",
    "    add_viz(builder, plant)\n",
    "    add_contact_viz(builder, plant)\n",
    "    \n",
    "    diagram = builder.Build()\n",
    "    \n",
    "    simulator = Simulator(diagram)\n",
    "    simulator.Initialize()\n",
    "    simulator.set_target_realtime_rate(0.0)\n",
    "    \n",
    "    simulator.AdvanceTo(sim_time)\n",
    "    \n",
    "    print(simulator.get_actual_realtime_rate())\n",
    "    \n",
    "run_simulation_with_contact_viz(sim_time=1)"
   ]
  },
  {
   "cell_type": "markdown",
   "metadata": {},
   "source": [
    "## Further reading\n",
    "\n",
    "* [Hydroelastic Contact User Guide](https://drake.mit.edu/doxygen_cxx/group__hydroelastic__user__guide.html)\n",
    "\n",
    "* Elandt, R., Drumwright, E., Sherman, M., & Ruina, A. (2019, November). A pressure field model for fast, robust approximation of net contact force and moment between nominally rigid objects. In 2019 IEEE/RSJ International Conference on Intelligent Robots and Systems(IROS) (pp. 8238-8245). IEEE. [link](https://arxiv.org/abs/1904.11433)\n",
    "\n",
    "* Masterjohn, J., Guoy, D., Shepherd, J., & Castro, A. (2022). Velocity Level Approximation of Pressure Field Contact Patches. IEEE Robotics and Automation Letters 7, no. 4 (2022): 11593-11600. [link](https://arxiv.org/abs/2110.04157v2)\n",
    "\n",
    "* Elandt, R. (2022, December). Pressure Field Contact. Dissertation. Cornell University. [link](https://ecommons.cornell.edu/handle/1813/112919)"
   ]
  }
 ],
 "metadata": {
  "kernelspec": {
   "display_name": "Python 3",
   "language": "python",
   "name": "python3"
  },
  "language_info": {
   "codemirror_mode": {
    "name": "ipython",
    "version": 3
   },
   "file_extension": ".py",
   "mimetype": "text/x-python",
   "name": "python",
   "nbconvert_exporter": "python",
   "pygments_lexer": "ipython3",
   "version": "3.8.10"
  }
 },
 "nbformat": 4,
 "nbformat_minor": 2
}
